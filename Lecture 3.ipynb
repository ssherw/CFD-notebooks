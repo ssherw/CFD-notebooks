{
 "cells": [
  {
   "cell_type": "markdown",
   "metadata": {
    "colab_type": "text",
    "id": "hNlMQDpaMbvY"
   },
   "source": [
    "# Lecture 3: Finite Differences"
   ]
  },
  {
   "cell_type": "code",
   "execution_count": 1,
   "metadata": {
    "colab": {},
    "colab_type": "code",
    "executionInfo": {
     "elapsed": 1143,
     "status": "ok",
     "timestamp": 1594024201900,
     "user": {
      "displayName": "Chong You Lien",
      "photoUrl": "https://lh3.googleusercontent.com/a-/AOh14GiTQxYKgVXgSQbNIwtxo4W_I34mvDVIW5VEOPSOsg=s64",
      "userId": "07519682784065707653"
     },
     "user_tz": -480
    },
    "id": "ldPmzNfRMbvZ",
    "scrolled": false
   },
   "outputs": [],
   "source": [
    "# Initialisation\n",
    "\n",
    "%matplotlib inline\n",
    "\n",
    "import matplotlib\n",
    "import numpy as np\n",
    "import matplotlib.pyplot as plt\n",
    "from sympy import *\n",
    "from scipy.sparse import diags\n",
    "from ipywidgets import *\n",
    "from IPython.display import display, Markdown\n",
    "\n",
    "x   = Symbol('x')\n",
    "dxs = Symbol('\\Delta x')"
   ]
  },
  {
   "cell_type": "markdown",
   "metadata": {
    "colab_type": "text",
    "id": "IYuGhGNWMbvd"
   },
   "source": [
    "In the lecture, we examined finite difference methods for differential equations. In this notebook, we will graphically examine these finite differences methods. Firstly, the forward, backward and centred finite difference approximations for first-order derivatives are as such\n",
    "\n",
    "Forward difference: $\\frac{f(x+\\Delta x)-f(x)}{\\Delta x}$\n",
    "\n",
    "Backward difference: $\\frac{f(x)-f(x-\\Delta x)}{\\Delta x}$\n",
    "\n",
    "Centred difference: $\\frac{f(x+\\Delta x)-f(x-\\Delta x))}{2\\Delta x}$\n",
    "\n",
    "In this example, we will examine the first derivative of $sin(x)$. Analytically, we know the solution to be $cos(x)$. We will look at how each difference method approximates the first derivative. \n",
    "\n",
    "The variables in the cell below can be subsequently changed to investigate different equations."
   ]
  },
  {
   "cell_type": "code",
   "execution_count": 2,
   "metadata": {
    "colab": {},
    "colab_type": "code",
    "executionInfo": {
     "elapsed": 1139,
     "status": "ok",
     "timestamp": 1594024201901,
     "user": {
      "displayName": "Chong You Lien",
      "photoUrl": "https://lh3.googleusercontent.com/a-/AOh14GiTQxYKgVXgSQbNIwtxo4W_I34mvDVIW5VEOPSOsg=s64",
      "userId": "07519682784065707653"
     },
     "user_tz": -480
    },
    "id": "Su4pJsoiMbvd",
    "scrolled": false
   },
   "outputs": [],
   "source": [
    "## Edit variables here\n",
    "# Equation to be differentiated\n",
    "f = sin(x)\n",
    "\n",
    "# Define start and end of range for plot\n",
    "x_start = 0\n",
    "x_end   = np.pi\n",
    "x_space = 100"
   ]
  },
  {
   "cell_type": "markdown",
   "metadata": {
    "colab_type": "text",
    "id": "1N3ogMMsMbvf"
   },
   "source": [
    "We plot both the analytical solution, $cos(x)$, and the three difference equations."
   ]
  },
  {
   "cell_type": "code",
   "execution_count": 3,
   "metadata": {
    "colab": {
     "base_uri": "https://localhost:8080/",
     "height": 438,
     "referenced_widgets": [
      "8ce836ffa7404891989c4ec3d63294a9",
      "da6d649bbafe45c796d60da359b7e922",
      "f6c6edf29f3945e9be42147fc81b3098",
      "db97dbe17edc4be89fa7d45c06d343c9",
      "e4b526bcf1144dcb8dd8d3730d2d772d",
      "7854ffc7cb6347c4b3c46b341b30d0cc",
      "ce52b33e557b48aa8ea93b2afc376d03"
     ]
    },
    "colab_type": "code",
    "executionInfo": {
     "elapsed": 2406,
     "status": "ok",
     "timestamp": 1594024203173,
     "user": {
      "displayName": "Chong You Lien",
      "photoUrl": "https://lh3.googleusercontent.com/a-/AOh14GiTQxYKgVXgSQbNIwtxo4W_I34mvDVIW5VEOPSOsg=s64",
      "userId": "07519682784065707653"
     },
     "user_tz": -480
    },
    "id": "BzxregM9Mbvg",
    "outputId": "d976ebf0-8518-4be2-e9c3-f47a99070929",
    "scrolled": false
   },
   "outputs": [
    {
     "data": {
      "text/markdown": [
       "To find $\\frac{d}{d x} \\sin{\\left(x \\right)}$ :"
      ],
      "text/plain": [
       "<IPython.core.display.Markdown object>"
      ]
     },
     "metadata": {},
     "output_type": "display_data"
    },
    {
     "data": {
      "text/markdown": [
       "The analytical solution is $\\cos{\\left(x \\right)}$ ."
      ],
      "text/plain": [
       "<IPython.core.display.Markdown object>"
      ]
     },
     "metadata": {},
     "output_type": "display_data"
    },
    {
     "data": {
      "text/markdown": [
       "The forward difference equation is $\\frac{- \\sin{\\left(x \\right)} + \\sin{\\left(\\Delta x + x \\right)}}{\\Delta x}$ ."
      ],
      "text/plain": [
       "<IPython.core.display.Markdown object>"
      ]
     },
     "metadata": {},
     "output_type": "display_data"
    },
    {
     "data": {
      "text/markdown": [
       "The backward difference equation is $\\frac{\\sin{\\left(x \\right)} - \\sin{\\left(- \\Delta x + x \\right)}}{\\Delta x}$ ."
      ],
      "text/plain": [
       "<IPython.core.display.Markdown object>"
      ]
     },
     "metadata": {},
     "output_type": "display_data"
    },
    {
     "data": {
      "text/markdown": [
       "The centred difference equation is $\\frac{- \\sin{\\left(- \\Delta x + x \\right)} + \\sin{\\left(\\Delta x + x \\right)}}{2 \\Delta x}$ ."
      ],
      "text/plain": [
       "<IPython.core.display.Markdown object>"
      ]
     },
     "metadata": {},
     "output_type": "display_data"
    },
    {
     "data": {
      "application/vnd.jupyter.widget-view+json": {
       "model_id": "f826afd035d14b4fa4ce2e1821bf4cb8",
       "version_major": 2,
       "version_minor": 0
      },
      "text/plain": [
       "interactive(children=(FloatLogSlider(value=0.5, continuous_update=False, description='$\\\\Delta x$', max=0.5, m…"
      ]
     },
     "metadata": {},
     "output_type": "display_data"
    }
   ],
   "source": [
    "## Code to plot graphs\n",
    "# Create Derivative object\n",
    "dfdx = Derivative(f,x)\n",
    "\n",
    "# Create finite difference equations\n",
    "fd = (f.subs(x,UnevaluatedExpr(x+dxs))-f)/dxs\n",
    "bd = (f-f.subs(x,UnevaluatedExpr(x-dxs)))/dxs\n",
    "cd = (f.subs(x,UnevaluatedExpr(x+dxs))-f.subs(x,UnevaluatedExpr(x-dxs)))/(2*dxs)\n",
    "\n",
    "# Display finite difference equations\n",
    "display(Markdown('To find $' + latex(dfdx) + '$ :'))\n",
    "display(Markdown('The analytical solution is $' + latex(dfdx.doit()) + '$ .'))\n",
    "display(Markdown('The forward difference equation is $' + latex(fd) + '$ .'))\n",
    "display(Markdown('The backward difference equation is $' + latex(bd) + '$ .'))\n",
    "display(Markdown('The centred difference equation is $' + latex(cd) + '$ .'))\n",
    "\n",
    "# Calculate values\n",
    "x_val = np.linspace(x_start, x_end, x_space)\n",
    "\n",
    "# Plot analytical solution\n",
    "def update1(dx=0.5):\n",
    "    dyval = lambdify(x, dfdx.doit(), modules=['numpy'])(x_val)\n",
    "    fdval = lambdify(x, fd.subs(dxs,dx), modules=['numpy'])(x_val)\n",
    "    bdval = lambdify(x, bd.subs(dxs,dx), modules=['numpy'])(x_val)\n",
    "    cdval = lambdify(x, cd.subs(dxs,dx), modules=['numpy'])(x_val)\n",
    "    \n",
    "    plt.plot(x_val, dyval, color='tab:blue')\n",
    "    plt.plot(x_val, fdval, color='tab:orange')\n",
    "    plt.plot(x_val, bdval, color='tab:green')\n",
    "    plt.plot(x_val, cdval, color='tab:red')\n",
    "    \n",
    "    plt.grid()\n",
    "    plt.legend(['Analytical Solution', 'Forward Difference', 'Backward Difference', 'Centred Difference'])\n",
    "\n",
    "# Slider\n",
    "interact1 = interact(update1, dx=FloatLogSlider(min=-2, max=0.5, value=0.5, continuous_update=False, description='$\\Delta x$'))"
   ]
  },
  {
   "cell_type": "markdown",
   "metadata": {
    "colab_type": "text",
    "id": "koHk8cyIMbvi"
   },
   "source": [
    "Moving the slider adjusts the value of $\\Delta x$ used in the finite difference methods. By moving the slider to the left, $\\Delta x$ is decreased, causing the finite difference methods to become more accurate when compared to the analytical solution.\n",
    "\n",
    "## Errors\n",
    "\n",
    "We now examine the truncation error $\\varepsilon$ of each finite difference method. The truncation error is the difference between the exact value and the numerical approximation.\n",
    "\n",
    "We plot again the analytical solution and the three difference equations. This time, we also find the points at which the maximum errors are found, which are annotated with double-headed arrows."
   ]
  },
  {
   "cell_type": "code",
   "execution_count": 4,
   "metadata": {
    "colab": {
     "base_uri": "https://localhost:8080/",
     "height": 348,
     "referenced_widgets": [
      "a4163c9a127246c0b8163427a2d7c6a4",
      "04675d67396f4d98ad33c1d5c2534fde",
      "63a4418cab4c4a5e904b65e5adffeb72",
      "7fb9a735e6b04534bd6f4b653447426b",
      "f4e9510a2730423a833dde77511517db",
      "8c3602c92e224594b0f66f0e52337a07",
      "ac45cc82bee04b408ac5f95eec7cf614"
     ]
    },
    "colab_type": "code",
    "executionInfo": {
     "elapsed": 2398,
     "status": "ok",
     "timestamp": 1594024203174,
     "user": {
      "displayName": "Chong You Lien",
      "photoUrl": "https://lh3.googleusercontent.com/a-/AOh14GiTQxYKgVXgSQbNIwtxo4W_I34mvDVIW5VEOPSOsg=s64",
      "userId": "07519682784065707653"
     },
     "user_tz": -480
    },
    "id": "2P2oZQaDMbvj",
    "outputId": "5e950660-c326-4a72-de1c-1177f065e314",
    "scrolled": false
   },
   "outputs": [
    {
     "data": {
      "application/vnd.jupyter.widget-view+json": {
       "model_id": "670539d66c214318852e1fa1593adf66",
       "version_major": 2,
       "version_minor": 0
      },
      "text/plain": [
       "interactive(children=(FloatLogSlider(value=1.0, continuous_update=False, description='$\\\\Delta x$', max=0.5, m…"
      ]
     },
     "metadata": {},
     "output_type": "display_data"
    }
   ],
   "source": [
    "def update2(dx=0.5):\n",
    "    dyval = lambdify(x, dfdx.doit(), modules=['numpy'])(x_val)\n",
    "    fdval = lambdify(x, fd.subs(dxs,dx), modules=['numpy'])(x_val)\n",
    "    bdval = lambdify(x, bd.subs(dxs,dx), modules=['numpy'])(x_val)\n",
    "    cdval = lambdify(x, cd.subs(dxs,dx), modules=['numpy'])(x_val)\n",
    "    \n",
    "    plt.plot(x_val, dyval, color='tab:blue')\n",
    "    plt.plot(x_val, fdval, color='tab:orange')\n",
    "    plt.plot(x_val, bdval, color='tab:green')\n",
    "    plt.plot(x_val, cdval, color='tab:red')\n",
    "    \n",
    "    plt.grid()\n",
    "    plt.legend(['Analytical Solution', 'Forward Difference', 'Backward Difference', 'Centred Difference'])\n",
    "    \n",
    "    # Find maximum errors\n",
    "    fe = np.amax(np.abs(dyval-fdval))\n",
    "    be = np.amax(np.abs(dyval-bdval))\n",
    "    ce = np.amax(np.abs(dyval-cdval))\n",
    "    \n",
    "    fa = np.argmax(np.abs(dyval-fdval))\n",
    "    ba = np.argmax(np.abs(dyval-bdval))\n",
    "    ca = np.argmax(np.abs(dyval-cdval))\n",
    "    \n",
    "    # Plot double-headed arrows\n",
    "    plt.annotate(s='', xy=(x_val[fa],dyval[fa]), xytext=(x_val[fa],fdval[fa]), arrowprops=dict(arrowstyle='<->', shrinkA=0, shrinkB=0, color='tab:orange'))\n",
    "    plt.annotate(s='', xy=(x_val[ba],dyval[ba]), xytext=(x_val[ba],bdval[ba]), arrowprops=dict(arrowstyle='<->', shrinkA=0, shrinkB=0, color='tab:green'))\n",
    "    plt.annotate(s='', xy=(x_val[ca],dyval[ca]), xytext=(x_val[ca],cdval[ca]), arrowprops=dict(arrowstyle='<->', shrinkA=0, shrinkB=0, color='tab:red'))\n",
    "    \n",
    "    # Text output\n",
    "    print(f'The maximum absolute error for  forward difference is %.3f' % fe)\n",
    "    print(f'The maximum absolute error for backward difference is %.3f' % be)\n",
    "    print(f'The maximum absolute error for  centred difference is %.3f' % ce)\n",
    "\n",
    "# Slider\n",
    "interact2 = interact(update2, dx=FloatLogSlider(min=-2, max=0.5, value=1.0, continuous_update=False, description='$\\Delta x$'))"
   ]
  },
  {
   "cell_type": "markdown",
   "metadata": {
    "colab_type": "text",
    "id": "8zwgp9l-Mbvl"
   },
   "source": [
    "The absolute values of the maximum errors are consistent with the observation that both forward difference and backward difference are first order approximations, resulting in similar accuracies, while centred difference is a second order approximation, and thus is more accurate than both forward and backward difference.\n",
    "\n",
    "## One-sided formula\n",
    "\n",
    "It is common to use the centred difference method. However, this may not be always possible (e.g. boundary conditions such as impermeability at a wall). Hence, a one-sided finite difference scheme can be derived instead, by considering a stencil only consisting of stencil points on one side. We are also able to develop higher order approximations by using more stencil points, or carefully selecting stencil points, to eliminate the lowest-ordered term of the truncation error from the Taylor expansions.\n",
    "\n",
    "In this example we examine how coefficients can be calculated given a stencil of selected points on one side. In this case, we are looking at forward differences.\n",
    "\n",
    "For equispaced stencil points $x_0, x_1, ..., x_p$, we consider coefficients $a_0, a_1, ..., a_p$. By then considering the relevant equations, we derive the system of linear equations for the $m$-th derivative as such:\n",
    "\n",
    "$$\n",
    "\\begin{bmatrix}\n",
    "1 & 1 & ... & 1 & 1 \\\\\\\\\n",
    "0 & 1 & ... & (p-1) & p \\\\\\\\\n",
    "0 & 1 & ... & (p-1)^2 & p^2 \\\\\\\\\n",
    "... & ... & ... & ... & ... \\\\\\\\\n",
    "0 & 1 & ... & (p-1)^p & p^p\n",
    "\\end{bmatrix}\n",
    "\\begin{bmatrix}\n",
    "a_0 \\\\\\\\ a_1 \\\\\\\\ a_2 \\\\\\\\  ... \\\\\\\\ a_p\n",
    "\\end{bmatrix}\n",
    "=\n",
    "m!\n",
    "\\begin{bmatrix}\n",
    "\\delta_{0,m} \\\\\\\\ \\delta_{1,m} \\\\\\\\ \\delta_{2,m} \\\\\\\\ ... \\\\\\\\ \\delta_{p,m}\n",
    "\\end{bmatrix}\n",
    "$$\n",
    "\n",
    "where $\\delta_{i,j}$ is the Kronecker delta.\n",
    "\n",
    "Below, we can select the derivative we want to find the coefficients for and the points we want for our stencil."
   ]
  },
  {
   "cell_type": "code",
   "execution_count": 5,
   "metadata": {
    "colab": {
     "base_uri": "https://localhost:8080/",
     "height": 440,
     "referenced_widgets": [
      "4acd51a173ce4600ad912dd77a60999c",
      "92fd4b61f5274e57a2b5bad87a9fdbe7",
      "7e4c42dabb51451aa7d6884e8520b240",
      "984bd3115e8140b4bbb17331f0c472c3",
      "b85d97d6bd334a09b72006bbda28fc3d",
      "ba8955f9ccd64a71a28300e761ae1df0",
      "d7b24b86ceee4d39af24feaa95dfe7ad",
      "f91002db915d49159d8c949d75a85859",
      "ee606f215dd34312af0bd874fbcc02cf",
      "69a2ebefedb345afb0e3e847af0fcdd0",
      "359733ca9675497a9a5eb6e0018641c8",
      "4bcc36369eff4c189495d3b96b7ea970",
      "c3bcad6222c74d24af9a29bd1b8bd18d",
      "a741cff224d6448aaa58fc824dfb09c2",
      "a56e480fe90f468384e75afe51161bad",
      "5c40bea81cf340bf93826c2c0fd81d59",
      "17a23a172051447dbb4620f47a83930a",
      "b32d9de8cbf9458494eb3099620e3510",
      "0ee63939828b4cca99723b20c8ba2f4c",
      "8ce0aaddea8e4207a083ff3f86055380",
      "5fa5f89c1b0447ffb41ce8beaf7d2ba3",
      "2bb12bbc58394886b8622ccef09d2ad8",
      "f0dfc5ba627642b2bbe5b56e2c6cf65a",
      "7ad729fa9fe745b1b5d4d7194b7f4daa",
      "206c3664605e433280d6c195b6e9aa05"
     ]
    },
    "colab_type": "code",
    "executionInfo": {
     "elapsed": 3271,
     "status": "ok",
     "timestamp": 1594024204055,
     "user": {
      "displayName": "Chong You Lien",
      "photoUrl": "https://lh3.googleusercontent.com/a-/AOh14GiTQxYKgVXgSQbNIwtxo4W_I34mvDVIW5VEOPSOsg=s64",
      "userId": "07519682784065707653"
     },
     "user_tz": -480
    },
    "id": "4eBRz6JCMbvl",
    "outputId": "4f232f90-ff23-4ac5-dc41-ba8c7b5c35c9",
    "scrolled": false
   },
   "outputs": [
    {
     "data": {
      "text/markdown": [
       "Select derivative and stencil points:"
      ],
      "text/plain": [
       "<IPython.core.display.Markdown object>"
      ]
     },
     "metadata": {},
     "output_type": "display_data"
    },
    {
     "data": {
      "application/vnd.jupyter.widget-view+json": {
       "model_id": "a8651868c3c64c9d8e4e16e8293ef8ea",
       "version_major": 2,
       "version_minor": 0
      },
      "text/plain": [
       "interactive(children=(IntSlider(value=1, description='Derivative', max=5, min=1), Checkbox(value=True, descrip…"
      ]
     },
     "metadata": {},
     "output_type": "display_data"
    }
   ],
   "source": [
    "def checkboxClick(d=1,x0=True,x1=True,x2=False,x3=False,x4=False,x5=False):\n",
    "    l = [x0,x1,x2,x3,x4,x5]\n",
    "    ll = ['x_0','x_1','x_2','x_3','x_4','x_5']\n",
    "    i = l.count(True)\n",
    "        \n",
    "    if i <= d:\n",
    "        display(Markdown('Insufficient stencil points'))\n",
    "        return\n",
    "    \n",
    "    p = [z for z in range(6) if l[z] is True]\n",
    "    ll = [ll[z] for z in p]\n",
    "    s = np.array([[j**k for j in p] for k in p])\n",
    "    r = np.array([np.math.factorial(d) if d==z else 0 for z in range(i)])\n",
    "    \n",
    "    a = Matrix(list(linsolve((Matrix(s),Matrix(r)),[x]))[0])\n",
    "    \n",
    "    display(Markdown('To solve: $$'+latex(Matrix(s))+'^{-1}'+latex(Matrix(r))+'='+latex(a)+'$$'))\n",
    "    display(Markdown('The coefficients are: '))\n",
    "    for lli in range(len(ll)):\n",
    "        display(Markdown('$'+latex(ll[lli])+'$ : $'+latex(a[lli])+\"$\"))\n",
    "    display(Markdown('The order of accuracy is '+latex(i-d)+'.'))\n",
    "        \n",
    "    \n",
    "# Create checkboxes\n",
    "display(Markdown('Select derivative and stencil points:'))\n",
    "interact3 = interact(checkboxClick,\n",
    "                     d =IntSlider(min=1,max=5,description='Derivative'),\n",
    "                     x0=Checkbox(description='$x_0$', value=True),\n",
    "                     x1=Checkbox(description='$x_1$', value=True),\n",
    "                     x2=Checkbox(description='$x_2$'),\n",
    "                     x3=Checkbox(description='$x_3$'),\n",
    "                     x4=Checkbox(description='$x_4$'),\n",
    "                     x5=Checkbox(description='$x_5$'),\n",
    "                    )"
   ]
  },
  {
   "cell_type": "markdown",
   "metadata": {
    "colab_type": "text",
    "id": "8LmXw_hKMbvo"
   },
   "source": [
    "## Finite difference solution of elliptic equation\n",
    "\n",
    "Consider the elliptic equation\n",
    "\n",
    "$$\n",
    "u_{xx} = f(x) = -\\frac{w(x)}{T}\n",
    "$$\n",
    "\n",
    "with boundary conditions\n",
    "\n",
    "$$\n",
    "x \\in [-1, 1], \\quad u(-1) = u(1) = 0\n",
    "$$\n",
    "\n",
    "Recalling our matrix system $Au = f^*$ using centred approximation: \n",
    "\n",
    "$$\n",
    "\\left [  \\begin{array}{ccccc}\n",
    "-2 & 1 & & & \\\\\\\\ 1 & -2 & 1 & &\\\\\\\\ & \\ddots & \\ddots & \\ddots &\n",
    " \\\\\\\\ & & 1 & -2 & 1 \\\\\\\\ & & & 1 & -2 \\end{array} \\right ] \\left\n",
    "[ \\begin{array}{c} u_1 \\\\\\\\ u_2 \\\\\\\\ \\vdots \\\\\\\\ u_{N-2} \\\\\\\\ u_{N-1} \\end{array} \\right ]\n",
    " =\\left [ \\begin{array}{l}\\Delta x^2 f_1 - \\alpha\\\\\\\\ \\Delta x^2 f_2 \\\\\\\\ \\hspace{5mm} \\vdots \\\\\\\\  \\Delta x^2 f_{N-2}\\\\\\\\ \\Delta x^2 f_{N-1}- \\beta \\end{array} \\right ].\n",
    "$$\n",
    "\n",
    "We can now calculate the approximate $u(x)$ values."
   ]
  },
  {
   "cell_type": "code",
   "execution_count": 6,
   "metadata": {
    "colab": {
     "base_uri": "https://localhost:8080/",
     "height": 297,
     "referenced_widgets": [
      "a190b00d46f54afab36b2e379f76e1cc",
      "3f6ad89090834c6786ae051929721ada",
      "61f4e0f8bea74c9babc43116ad93176b",
      "558422e5122a4f869606cb9742e072ca",
      "343da98a86304ae4b0d5f5f264a624e1",
      "63ed5312d9204b18aa54ac31fa01414c",
      "40b69cdb01a3496d91f99b1ca8657cb5"
     ]
    },
    "colab_type": "code",
    "executionInfo": {
     "elapsed": 3262,
     "status": "ok",
     "timestamp": 1594024204056,
     "user": {
      "displayName": "Chong You Lien",
      "photoUrl": "https://lh3.googleusercontent.com/a-/AOh14GiTQxYKgVXgSQbNIwtxo4W_I34mvDVIW5VEOPSOsg=s64",
      "userId": "07519682784065707653"
     },
     "user_tz": -480
    },
    "id": "_AGRtD0pMbvo",
    "outputId": "d4f9b450-cf1a-412e-9b7d-0de8cd446cb1",
    "scrolled": false
   },
   "outputs": [
    {
     "data": {
      "application/vnd.jupyter.widget-view+json": {
       "model_id": "c8a98d6713c44416a976d08c3a9119bc",
       "version_major": 2,
       "version_minor": 0
      },
      "text/plain": [
       "interactive(children=(IntSlider(value=3, continuous_update=False, description='N', max=11, min=3), Output()), …"
      ]
     },
     "metadata": {},
     "output_type": "display_data"
    }
   ],
   "source": [
    "# Edit w(x) and T\n",
    "w = cos(x*np.pi/2)\n",
    "T = 0.2\n",
    "pl = list(np.linspace(-1,1,101))\n",
    "\n",
    "# Plotting function\n",
    "def update4(N=11):\n",
    "    dx= 2/(N-1)\n",
    "    r = list(np.linspace(-1,1,num=N))\n",
    "    wl= Matrix([w.subs(x,z) for z in r[1:-1]])\n",
    "    A = diags([1,-2,1],[-1,0,1],shape=(N-2,N-2)).toarray()\n",
    "    b = (np.array((dx**2)*(wl/T))).astype(np.float64) # flip sign of f(x) for plotting\n",
    "    u = np.linalg.solve(A,b)\n",
    "    \n",
    "    un = np.array(u.tolist()).astype(np.float64)\n",
    "    un = np.insert(un,(0,N-2),0)\n",
    "    \n",
    "    # Analytical solution\n",
    "    w2x =  (1/T)*integrate(integrate(w, x))\n",
    "    c1  =  (1/2)*(w2x.subs(x,-1)-w2x.subs(x,1))\n",
    "    c2  = -(1/2)*(w2x.subs(x,-1)+w2x.subs(x,1))\n",
    "    ua  = w2x+c1*x+c2\n",
    "    ual = np.array([ua.subs(x,z) for z in pl])\n",
    "    \n",
    "    # Plotting\n",
    "    plt.plot(pl, np.array([w.subs(x,z) for z in pl]))\n",
    "    plt.plot(pl, ual)\n",
    "    plt.plot(r, un)\n",
    "    plt.grid()\n",
    "    plt.legend(['$w(x)$', 'Analytical $u(x)$', 'Finite Difference $u(x)$'])\n",
    "    \n",
    "# Slider\n",
    "interact4 = interact(update4, N=IntSlider(min=3,max=11,value=3, continuous_update=False))"
   ]
  },
  {
   "cell_type": "markdown",
   "metadata": {
    "colab_type": "text",
    "id": "JNm2xrQyMbvr"
   },
   "source": [
    "The slider $N$ can be shifted to adjust the number of points taken.\n",
    "\n",
    "We can then compare our finite difference approximation to the analytical solution, which can be trivially found."
   ]
  }
 ],
 "metadata": {
  "colab": {
   "collapsed_sections": [],
   "name": "Lecture 3.ipynb",
   "provenance": []
  },
  "kernelspec": {
   "display_name": "Python 3",
   "language": "python",
   "name": "python3"
  },
  "language_info": {
   "codemirror_mode": {
    "name": "ipython",
    "version": 3
   },
   "file_extension": ".py",
   "mimetype": "text/x-python",
   "name": "python",
   "nbconvert_exporter": "python",
   "pygments_lexer": "ipython3",
   "version": "3.7.7"
  },
  "widgets": {
   "application/vnd.jupyter.widget-state+json": {
    "04675d67396f4d98ad33c1d5c2534fde": {
     "model_module": "@jupyter-widgets/base",
     "model_name": "LayoutModel",
     "state": {
      "_model_module": "@jupyter-widgets/base",
      "_model_module_version": "1.2.0",
      "_model_name": "LayoutModel",
      "_view_count": null,
      "_view_module": "@jupyter-widgets/base",
      "_view_module_version": "1.2.0",
      "_view_name": "LayoutView",
      "align_content": null,
      "align_items": null,
      "align_self": null,
      "border": null,
      "bottom": null,
      "display": null,
      "flex": null,
      "flex_flow": null,
      "grid_area": null,
      "grid_auto_columns": null,
      "grid_auto_flow": null,
      "grid_auto_rows": null,
      "grid_column": null,
      "grid_gap": null,
      "grid_row": null,
      "grid_template_areas": null,
      "grid_template_columns": null,
      "grid_template_rows": null,
      "height": null,
      "justify_content": null,
      "justify_items": null,
      "left": null,
      "margin": null,
      "max_height": null,
      "max_width": null,
      "min_height": null,
      "min_width": null,
      "object_fit": null,
      "object_position": null,
      "order": null,
      "overflow": null,
      "overflow_x": null,
      "overflow_y": null,
      "padding": null,
      "right": null,
      "top": null,
      "visibility": null,
      "width": null
     }
    },
    "0ee63939828b4cca99723b20c8ba2f4c": {
     "model_module": "@jupyter-widgets/controls",
     "model_name": "DescriptionStyleModel",
     "state": {
      "_model_module": "@jupyter-widgets/controls",
      "_model_module_version": "1.5.0",
      "_model_name": "DescriptionStyleModel",
      "_view_count": null,
      "_view_module": "@jupyter-widgets/base",
      "_view_module_version": "1.2.0",
      "_view_name": "StyleView",
      "description_width": ""
     }
    },
    "17a23a172051447dbb4620f47a83930a": {
     "model_module": "@jupyter-widgets/controls",
     "model_name": "DescriptionStyleModel",
     "state": {
      "_model_module": "@jupyter-widgets/controls",
      "_model_module_version": "1.5.0",
      "_model_name": "DescriptionStyleModel",
      "_view_count": null,
      "_view_module": "@jupyter-widgets/base",
      "_view_module_version": "1.2.0",
      "_view_name": "StyleView",
      "description_width": ""
     }
    },
    "206c3664605e433280d6c195b6e9aa05": {
     "model_module": "@jupyter-widgets/base",
     "model_name": "LayoutModel",
     "state": {
      "_model_module": "@jupyter-widgets/base",
      "_model_module_version": "1.2.0",
      "_model_name": "LayoutModel",
      "_view_count": null,
      "_view_module": "@jupyter-widgets/base",
      "_view_module_version": "1.2.0",
      "_view_name": "LayoutView",
      "align_content": null,
      "align_items": null,
      "align_self": null,
      "border": null,
      "bottom": null,
      "display": null,
      "flex": null,
      "flex_flow": null,
      "grid_area": null,
      "grid_auto_columns": null,
      "grid_auto_flow": null,
      "grid_auto_rows": null,
      "grid_column": null,
      "grid_gap": null,
      "grid_row": null,
      "grid_template_areas": null,
      "grid_template_columns": null,
      "grid_template_rows": null,
      "height": null,
      "justify_content": null,
      "justify_items": null,
      "left": null,
      "margin": null,
      "max_height": null,
      "max_width": null,
      "min_height": null,
      "min_width": null,
      "object_fit": null,
      "object_position": null,
      "order": null,
      "overflow": null,
      "overflow_x": null,
      "overflow_y": null,
      "padding": null,
      "right": null,
      "top": null,
      "visibility": null,
      "width": null
     }
    },
    "2bb12bbc58394886b8622ccef09d2ad8": {
     "model_module": "@jupyter-widgets/base",
     "model_name": "LayoutModel",
     "state": {
      "_model_module": "@jupyter-widgets/base",
      "_model_module_version": "1.2.0",
      "_model_name": "LayoutModel",
      "_view_count": null,
      "_view_module": "@jupyter-widgets/base",
      "_view_module_version": "1.2.0",
      "_view_name": "LayoutView",
      "align_content": null,
      "align_items": null,
      "align_self": null,
      "border": null,
      "bottom": null,
      "display": null,
      "flex": null,
      "flex_flow": null,
      "grid_area": null,
      "grid_auto_columns": null,
      "grid_auto_flow": null,
      "grid_auto_rows": null,
      "grid_column": null,
      "grid_gap": null,
      "grid_row": null,
      "grid_template_areas": null,
      "grid_template_columns": null,
      "grid_template_rows": null,
      "height": null,
      "justify_content": null,
      "justify_items": null,
      "left": null,
      "margin": null,
      "max_height": null,
      "max_width": null,
      "min_height": null,
      "min_width": null,
      "object_fit": null,
      "object_position": null,
      "order": null,
      "overflow": null,
      "overflow_x": null,
      "overflow_y": null,
      "padding": null,
      "right": null,
      "top": null,
      "visibility": null,
      "width": null
     }
    },
    "343da98a86304ae4b0d5f5f264a624e1": {
     "model_module": "@jupyter-widgets/controls",
     "model_name": "SliderStyleModel",
     "state": {
      "_model_module": "@jupyter-widgets/controls",
      "_model_module_version": "1.5.0",
      "_model_name": "SliderStyleModel",
      "_view_count": null,
      "_view_module": "@jupyter-widgets/base",
      "_view_module_version": "1.2.0",
      "_view_name": "StyleView",
      "description_width": "",
      "handle_color": null
     }
    },
    "359733ca9675497a9a5eb6e0018641c8": {
     "model_module": "@jupyter-widgets/controls",
     "model_name": "SliderStyleModel",
     "state": {
      "_model_module": "@jupyter-widgets/controls",
      "_model_module_version": "1.5.0",
      "_model_name": "SliderStyleModel",
      "_view_count": null,
      "_view_module": "@jupyter-widgets/base",
      "_view_module_version": "1.2.0",
      "_view_name": "StyleView",
      "description_width": "",
      "handle_color": null
     }
    },
    "3f6ad89090834c6786ae051929721ada": {
     "model_module": "@jupyter-widgets/base",
     "model_name": "LayoutModel",
     "state": {
      "_model_module": "@jupyter-widgets/base",
      "_model_module_version": "1.2.0",
      "_model_name": "LayoutModel",
      "_view_count": null,
      "_view_module": "@jupyter-widgets/base",
      "_view_module_version": "1.2.0",
      "_view_name": "LayoutView",
      "align_content": null,
      "align_items": null,
      "align_self": null,
      "border": null,
      "bottom": null,
      "display": null,
      "flex": null,
      "flex_flow": null,
      "grid_area": null,
      "grid_auto_columns": null,
      "grid_auto_flow": null,
      "grid_auto_rows": null,
      "grid_column": null,
      "grid_gap": null,
      "grid_row": null,
      "grid_template_areas": null,
      "grid_template_columns": null,
      "grid_template_rows": null,
      "height": null,
      "justify_content": null,
      "justify_items": null,
      "left": null,
      "margin": null,
      "max_height": null,
      "max_width": null,
      "min_height": null,
      "min_width": null,
      "object_fit": null,
      "object_position": null,
      "order": null,
      "overflow": null,
      "overflow_x": null,
      "overflow_y": null,
      "padding": null,
      "right": null,
      "top": null,
      "visibility": null,
      "width": null
     }
    },
    "40b69cdb01a3496d91f99b1ca8657cb5": {
     "model_module": "@jupyter-widgets/base",
     "model_name": "LayoutModel",
     "state": {
      "_model_module": "@jupyter-widgets/base",
      "_model_module_version": "1.2.0",
      "_model_name": "LayoutModel",
      "_view_count": null,
      "_view_module": "@jupyter-widgets/base",
      "_view_module_version": "1.2.0",
      "_view_name": "LayoutView",
      "align_content": null,
      "align_items": null,
      "align_self": null,
      "border": null,
      "bottom": null,
      "display": null,
      "flex": null,
      "flex_flow": null,
      "grid_area": null,
      "grid_auto_columns": null,
      "grid_auto_flow": null,
      "grid_auto_rows": null,
      "grid_column": null,
      "grid_gap": null,
      "grid_row": null,
      "grid_template_areas": null,
      "grid_template_columns": null,
      "grid_template_rows": null,
      "height": null,
      "justify_content": null,
      "justify_items": null,
      "left": null,
      "margin": null,
      "max_height": null,
      "max_width": null,
      "min_height": null,
      "min_width": null,
      "object_fit": null,
      "object_position": null,
      "order": null,
      "overflow": null,
      "overflow_x": null,
      "overflow_y": null,
      "padding": null,
      "right": null,
      "top": null,
      "visibility": null,
      "width": null
     }
    },
    "4acd51a173ce4600ad912dd77a60999c": {
     "model_module": "@jupyter-widgets/controls",
     "model_name": "VBoxModel",
     "state": {
      "_dom_classes": [
       "widget-interact"
      ],
      "_model_module": "@jupyter-widgets/controls",
      "_model_module_version": "1.5.0",
      "_model_name": "VBoxModel",
      "_view_count": null,
      "_view_module": "@jupyter-widgets/controls",
      "_view_module_version": "1.5.0",
      "_view_name": "VBoxView",
      "box_style": "",
      "children": [
       "IPY_MODEL_7e4c42dabb51451aa7d6884e8520b240",
       "IPY_MODEL_984bd3115e8140b4bbb17331f0c472c3",
       "IPY_MODEL_b85d97d6bd334a09b72006bbda28fc3d",
       "IPY_MODEL_ba8955f9ccd64a71a28300e761ae1df0",
       "IPY_MODEL_d7b24b86ceee4d39af24feaa95dfe7ad",
       "IPY_MODEL_f91002db915d49159d8c949d75a85859",
       "IPY_MODEL_ee606f215dd34312af0bd874fbcc02cf",
       "IPY_MODEL_69a2ebefedb345afb0e3e847af0fcdd0"
      ],
      "layout": "IPY_MODEL_92fd4b61f5274e57a2b5bad87a9fdbe7"
     }
    },
    "4bcc36369eff4c189495d3b96b7ea970": {
     "model_module": "@jupyter-widgets/base",
     "model_name": "LayoutModel",
     "state": {
      "_model_module": "@jupyter-widgets/base",
      "_model_module_version": "1.2.0",
      "_model_name": "LayoutModel",
      "_view_count": null,
      "_view_module": "@jupyter-widgets/base",
      "_view_module_version": "1.2.0",
      "_view_name": "LayoutView",
      "align_content": null,
      "align_items": null,
      "align_self": null,
      "border": null,
      "bottom": null,
      "display": null,
      "flex": null,
      "flex_flow": null,
      "grid_area": null,
      "grid_auto_columns": null,
      "grid_auto_flow": null,
      "grid_auto_rows": null,
      "grid_column": null,
      "grid_gap": null,
      "grid_row": null,
      "grid_template_areas": null,
      "grid_template_columns": null,
      "grid_template_rows": null,
      "height": null,
      "justify_content": null,
      "justify_items": null,
      "left": null,
      "margin": null,
      "max_height": null,
      "max_width": null,
      "min_height": null,
      "min_width": null,
      "object_fit": null,
      "object_position": null,
      "order": null,
      "overflow": null,
      "overflow_x": null,
      "overflow_y": null,
      "padding": null,
      "right": null,
      "top": null,
      "visibility": null,
      "width": null
     }
    },
    "558422e5122a4f869606cb9742e072ca": {
     "model_module": "@jupyter-widgets/output",
     "model_name": "OutputModel",
     "state": {
      "_dom_classes": [],
      "_model_module": "@jupyter-widgets/output",
      "_model_module_version": "1.0.0",
      "_model_name": "OutputModel",
      "_view_count": null,
      "_view_module": "@jupyter-widgets/output",
      "_view_module_version": "1.0.0",
      "_view_name": "OutputView",
      "layout": "IPY_MODEL_40b69cdb01a3496d91f99b1ca8657cb5",
      "msg_id": "",
      "outputs": [
       {
        "image/png": "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\n",
        "metadata": {
         "needs_background": "light",
         "tags": []
        },
        "output_type": "display_data",
        "text/plain": "<Figure size 432x288 with 1 Axes>"
       }
      ]
     }
    },
    "5c40bea81cf340bf93826c2c0fd81d59": {
     "model_module": "@jupyter-widgets/base",
     "model_name": "LayoutModel",
     "state": {
      "_model_module": "@jupyter-widgets/base",
      "_model_module_version": "1.2.0",
      "_model_name": "LayoutModel",
      "_view_count": null,
      "_view_module": "@jupyter-widgets/base",
      "_view_module_version": "1.2.0",
      "_view_name": "LayoutView",
      "align_content": null,
      "align_items": null,
      "align_self": null,
      "border": null,
      "bottom": null,
      "display": null,
      "flex": null,
      "flex_flow": null,
      "grid_area": null,
      "grid_auto_columns": null,
      "grid_auto_flow": null,
      "grid_auto_rows": null,
      "grid_column": null,
      "grid_gap": null,
      "grid_row": null,
      "grid_template_areas": null,
      "grid_template_columns": null,
      "grid_template_rows": null,
      "height": null,
      "justify_content": null,
      "justify_items": null,
      "left": null,
      "margin": null,
      "max_height": null,
      "max_width": null,
      "min_height": null,
      "min_width": null,
      "object_fit": null,
      "object_position": null,
      "order": null,
      "overflow": null,
      "overflow_x": null,
      "overflow_y": null,
      "padding": null,
      "right": null,
      "top": null,
      "visibility": null,
      "width": null
     }
    },
    "5fa5f89c1b0447ffb41ce8beaf7d2ba3": {
     "model_module": "@jupyter-widgets/controls",
     "model_name": "DescriptionStyleModel",
     "state": {
      "_model_module": "@jupyter-widgets/controls",
      "_model_module_version": "1.5.0",
      "_model_name": "DescriptionStyleModel",
      "_view_count": null,
      "_view_module": "@jupyter-widgets/base",
      "_view_module_version": "1.2.0",
      "_view_name": "StyleView",
      "description_width": ""
     }
    },
    "61f4e0f8bea74c9babc43116ad93176b": {
     "model_module": "@jupyter-widgets/controls",
     "model_name": "IntSliderModel",
     "state": {
      "_dom_classes": [],
      "_model_module": "@jupyter-widgets/controls",
      "_model_module_version": "1.5.0",
      "_model_name": "IntSliderModel",
      "_view_count": null,
      "_view_module": "@jupyter-widgets/controls",
      "_view_module_version": "1.5.0",
      "_view_name": "IntSliderView",
      "continuous_update": false,
      "description": "N",
      "description_tooltip": null,
      "disabled": false,
      "layout": "IPY_MODEL_63ed5312d9204b18aa54ac31fa01414c",
      "max": 11,
      "min": 3,
      "orientation": "horizontal",
      "readout": true,
      "readout_format": "d",
      "step": 1,
      "style": "IPY_MODEL_343da98a86304ae4b0d5f5f264a624e1",
      "value": 3
     }
    },
    "63a4418cab4c4a5e904b65e5adffeb72": {
     "model_module": "@jupyter-widgets/controls",
     "model_name": "FloatLogSliderModel",
     "state": {
      "_dom_classes": [],
      "_model_module": "@jupyter-widgets/controls",
      "_model_module_version": "1.5.0",
      "_model_name": "FloatLogSliderModel",
      "_view_count": null,
      "_view_module": "@jupyter-widgets/controls",
      "_view_module_version": "1.5.0",
      "_view_name": "FloatLogSliderView",
      "base": 10,
      "continuous_update": false,
      "description": "$\\Delta x$",
      "description_tooltip": null,
      "disabled": false,
      "layout": "IPY_MODEL_8c3602c92e224594b0f66f0e52337a07",
      "max": 0.5,
      "min": -2,
      "orientation": "horizontal",
      "readout": true,
      "readout_format": ".3g",
      "step": 0.1,
      "style": "IPY_MODEL_f4e9510a2730423a833dde77511517db",
      "value": 1
     }
    },
    "63ed5312d9204b18aa54ac31fa01414c": {
     "model_module": "@jupyter-widgets/base",
     "model_name": "LayoutModel",
     "state": {
      "_model_module": "@jupyter-widgets/base",
      "_model_module_version": "1.2.0",
      "_model_name": "LayoutModel",
      "_view_count": null,
      "_view_module": "@jupyter-widgets/base",
      "_view_module_version": "1.2.0",
      "_view_name": "LayoutView",
      "align_content": null,
      "align_items": null,
      "align_self": null,
      "border": null,
      "bottom": null,
      "display": null,
      "flex": null,
      "flex_flow": null,
      "grid_area": null,
      "grid_auto_columns": null,
      "grid_auto_flow": null,
      "grid_auto_rows": null,
      "grid_column": null,
      "grid_gap": null,
      "grid_row": null,
      "grid_template_areas": null,
      "grid_template_columns": null,
      "grid_template_rows": null,
      "height": null,
      "justify_content": null,
      "justify_items": null,
      "left": null,
      "margin": null,
      "max_height": null,
      "max_width": null,
      "min_height": null,
      "min_width": null,
      "object_fit": null,
      "object_position": null,
      "order": null,
      "overflow": null,
      "overflow_x": null,
      "overflow_y": null,
      "padding": null,
      "right": null,
      "top": null,
      "visibility": null,
      "width": null
     }
    },
    "69a2ebefedb345afb0e3e847af0fcdd0": {
     "model_module": "@jupyter-widgets/output",
     "model_name": "OutputModel",
     "state": {
      "_dom_classes": [],
      "_model_module": "@jupyter-widgets/output",
      "_model_module_version": "1.0.0",
      "_model_name": "OutputModel",
      "_view_count": null,
      "_view_module": "@jupyter-widgets/output",
      "_view_module_version": "1.0.0",
      "_view_name": "OutputView",
      "layout": "IPY_MODEL_206c3664605e433280d6c195b6e9aa05",
      "msg_id": "",
      "outputs": [
       {
        "metadata": {
         "tags": []
        },
        "output_type": "display_data",
        "text/markdown": "To solve: $$[[1 1]\n [0 1]]^{-1}[0 1]=\\left[\\begin{matrix}-1.0\\\\1.0\\end{matrix}\\right]$$",
        "text/plain": "<IPython.core.display.Markdown object>"
       },
       {
        "metadata": {
         "tags": []
        },
        "output_type": "display_data",
        "text/markdown": "The coefficients are: ",
        "text/plain": "<IPython.core.display.Markdown object>"
       },
       {
        "metadata": {
         "tags": []
        },
        "output_type": "display_data",
        "text/markdown": "$x_0$ : $-1.0$",
        "text/plain": "<IPython.core.display.Markdown object>"
       },
       {
        "metadata": {
         "tags": []
        },
        "output_type": "display_data",
        "text/markdown": "$x_1$ : $1.0$",
        "text/plain": "<IPython.core.display.Markdown object>"
       },
       {
        "metadata": {
         "tags": []
        },
        "output_type": "display_data",
        "text/markdown": "The order of accuracy is 1.",
        "text/plain": "<IPython.core.display.Markdown object>"
       }
      ]
     }
    },
    "7854ffc7cb6347c4b3c46b341b30d0cc": {
     "model_module": "@jupyter-widgets/base",
     "model_name": "LayoutModel",
     "state": {
      "_model_module": "@jupyter-widgets/base",
      "_model_module_version": "1.2.0",
      "_model_name": "LayoutModel",
      "_view_count": null,
      "_view_module": "@jupyter-widgets/base",
      "_view_module_version": "1.2.0",
      "_view_name": "LayoutView",
      "align_content": null,
      "align_items": null,
      "align_self": null,
      "border": null,
      "bottom": null,
      "display": null,
      "flex": null,
      "flex_flow": null,
      "grid_area": null,
      "grid_auto_columns": null,
      "grid_auto_flow": null,
      "grid_auto_rows": null,
      "grid_column": null,
      "grid_gap": null,
      "grid_row": null,
      "grid_template_areas": null,
      "grid_template_columns": null,
      "grid_template_rows": null,
      "height": null,
      "justify_content": null,
      "justify_items": null,
      "left": null,
      "margin": null,
      "max_height": null,
      "max_width": null,
      "min_height": null,
      "min_width": null,
      "object_fit": null,
      "object_position": null,
      "order": null,
      "overflow": null,
      "overflow_x": null,
      "overflow_y": null,
      "padding": null,
      "right": null,
      "top": null,
      "visibility": null,
      "width": null
     }
    },
    "7ad729fa9fe745b1b5d4d7194b7f4daa": {
     "model_module": "@jupyter-widgets/base",
     "model_name": "LayoutModel",
     "state": {
      "_model_module": "@jupyter-widgets/base",
      "_model_module_version": "1.2.0",
      "_model_name": "LayoutModel",
      "_view_count": null,
      "_view_module": "@jupyter-widgets/base",
      "_view_module_version": "1.2.0",
      "_view_name": "LayoutView",
      "align_content": null,
      "align_items": null,
      "align_self": null,
      "border": null,
      "bottom": null,
      "display": null,
      "flex": null,
      "flex_flow": null,
      "grid_area": null,
      "grid_auto_columns": null,
      "grid_auto_flow": null,
      "grid_auto_rows": null,
      "grid_column": null,
      "grid_gap": null,
      "grid_row": null,
      "grid_template_areas": null,
      "grid_template_columns": null,
      "grid_template_rows": null,
      "height": null,
      "justify_content": null,
      "justify_items": null,
      "left": null,
      "margin": null,
      "max_height": null,
      "max_width": null,
      "min_height": null,
      "min_width": null,
      "object_fit": null,
      "object_position": null,
      "order": null,
      "overflow": null,
      "overflow_x": null,
      "overflow_y": null,
      "padding": null,
      "right": null,
      "top": null,
      "visibility": null,
      "width": null
     }
    },
    "7e4c42dabb51451aa7d6884e8520b240": {
     "model_module": "@jupyter-widgets/controls",
     "model_name": "IntSliderModel",
     "state": {
      "_dom_classes": [],
      "_model_module": "@jupyter-widgets/controls",
      "_model_module_version": "1.5.0",
      "_model_name": "IntSliderModel",
      "_view_count": null,
      "_view_module": "@jupyter-widgets/controls",
      "_view_module_version": "1.5.0",
      "_view_name": "IntSliderView",
      "continuous_update": true,
      "description": "Derivative",
      "description_tooltip": null,
      "disabled": false,
      "layout": "IPY_MODEL_4bcc36369eff4c189495d3b96b7ea970",
      "max": 5,
      "min": 1,
      "orientation": "horizontal",
      "readout": true,
      "readout_format": "d",
      "step": 1,
      "style": "IPY_MODEL_359733ca9675497a9a5eb6e0018641c8",
      "value": 1
     }
    },
    "7fb9a735e6b04534bd6f4b653447426b": {
     "model_module": "@jupyter-widgets/output",
     "model_name": "OutputModel",
     "state": {
      "_dom_classes": [],
      "_model_module": "@jupyter-widgets/output",
      "_model_module_version": "1.0.0",
      "_model_name": "OutputModel",
      "_view_count": null,
      "_view_module": "@jupyter-widgets/output",
      "_view_module_version": "1.0.0",
      "_view_name": "OutputView",
      "layout": "IPY_MODEL_ac45cc82bee04b408ac5f95eec7cf614",
      "msg_id": "",
      "outputs": [
       {
        "metadata": {
         "tags": []
        },
        "output_type": "stream",
        "stream": "stdout",
        "text": "The maximum absolute error for  forward difference is 0.486\nThe maximum absolute error for backward difference is 0.486\nThe maximum absolute error for  centred difference is 0.159\n"
       },
       {
        "image/png": "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\n",
        "metadata": {
         "needs_background": "light",
         "tags": []
        },
        "output_type": "display_data",
        "text/plain": "<Figure size 432x288 with 1 Axes>"
       }
      ]
     }
    },
    "8c3602c92e224594b0f66f0e52337a07": {
     "model_module": "@jupyter-widgets/base",
     "model_name": "LayoutModel",
     "state": {
      "_model_module": "@jupyter-widgets/base",
      "_model_module_version": "1.2.0",
      "_model_name": "LayoutModel",
      "_view_count": null,
      "_view_module": "@jupyter-widgets/base",
      "_view_module_version": "1.2.0",
      "_view_name": "LayoutView",
      "align_content": null,
      "align_items": null,
      "align_self": null,
      "border": null,
      "bottom": null,
      "display": null,
      "flex": null,
      "flex_flow": null,
      "grid_area": null,
      "grid_auto_columns": null,
      "grid_auto_flow": null,
      "grid_auto_rows": null,
      "grid_column": null,
      "grid_gap": null,
      "grid_row": null,
      "grid_template_areas": null,
      "grid_template_columns": null,
      "grid_template_rows": null,
      "height": null,
      "justify_content": null,
      "justify_items": null,
      "left": null,
      "margin": null,
      "max_height": null,
      "max_width": null,
      "min_height": null,
      "min_width": null,
      "object_fit": null,
      "object_position": null,
      "order": null,
      "overflow": null,
      "overflow_x": null,
      "overflow_y": null,
      "padding": null,
      "right": null,
      "top": null,
      "visibility": null,
      "width": null
     }
    },
    "8ce0aaddea8e4207a083ff3f86055380": {
     "model_module": "@jupyter-widgets/base",
     "model_name": "LayoutModel",
     "state": {
      "_model_module": "@jupyter-widgets/base",
      "_model_module_version": "1.2.0",
      "_model_name": "LayoutModel",
      "_view_count": null,
      "_view_module": "@jupyter-widgets/base",
      "_view_module_version": "1.2.0",
      "_view_name": "LayoutView",
      "align_content": null,
      "align_items": null,
      "align_self": null,
      "border": null,
      "bottom": null,
      "display": null,
      "flex": null,
      "flex_flow": null,
      "grid_area": null,
      "grid_auto_columns": null,
      "grid_auto_flow": null,
      "grid_auto_rows": null,
      "grid_column": null,
      "grid_gap": null,
      "grid_row": null,
      "grid_template_areas": null,
      "grid_template_columns": null,
      "grid_template_rows": null,
      "height": null,
      "justify_content": null,
      "justify_items": null,
      "left": null,
      "margin": null,
      "max_height": null,
      "max_width": null,
      "min_height": null,
      "min_width": null,
      "object_fit": null,
      "object_position": null,
      "order": null,
      "overflow": null,
      "overflow_x": null,
      "overflow_y": null,
      "padding": null,
      "right": null,
      "top": null,
      "visibility": null,
      "width": null
     }
    },
    "8ce836ffa7404891989c4ec3d63294a9": {
     "model_module": "@jupyter-widgets/controls",
     "model_name": "VBoxModel",
     "state": {
      "_dom_classes": [
       "widget-interact"
      ],
      "_model_module": "@jupyter-widgets/controls",
      "_model_module_version": "1.5.0",
      "_model_name": "VBoxModel",
      "_view_count": null,
      "_view_module": "@jupyter-widgets/controls",
      "_view_module_version": "1.5.0",
      "_view_name": "VBoxView",
      "box_style": "",
      "children": [
       "IPY_MODEL_f6c6edf29f3945e9be42147fc81b3098",
       "IPY_MODEL_db97dbe17edc4be89fa7d45c06d343c9"
      ],
      "layout": "IPY_MODEL_da6d649bbafe45c796d60da359b7e922"
     }
    },
    "92fd4b61f5274e57a2b5bad87a9fdbe7": {
     "model_module": "@jupyter-widgets/base",
     "model_name": "LayoutModel",
     "state": {
      "_model_module": "@jupyter-widgets/base",
      "_model_module_version": "1.2.0",
      "_model_name": "LayoutModel",
      "_view_count": null,
      "_view_module": "@jupyter-widgets/base",
      "_view_module_version": "1.2.0",
      "_view_name": "LayoutView",
      "align_content": null,
      "align_items": null,
      "align_self": null,
      "border": null,
      "bottom": null,
      "display": null,
      "flex": null,
      "flex_flow": null,
      "grid_area": null,
      "grid_auto_columns": null,
      "grid_auto_flow": null,
      "grid_auto_rows": null,
      "grid_column": null,
      "grid_gap": null,
      "grid_row": null,
      "grid_template_areas": null,
      "grid_template_columns": null,
      "grid_template_rows": null,
      "height": null,
      "justify_content": null,
      "justify_items": null,
      "left": null,
      "margin": null,
      "max_height": null,
      "max_width": null,
      "min_height": null,
      "min_width": null,
      "object_fit": null,
      "object_position": null,
      "order": null,
      "overflow": null,
      "overflow_x": null,
      "overflow_y": null,
      "padding": null,
      "right": null,
      "top": null,
      "visibility": null,
      "width": null
     }
    },
    "984bd3115e8140b4bbb17331f0c472c3": {
     "model_module": "@jupyter-widgets/controls",
     "model_name": "CheckboxModel",
     "state": {
      "_dom_classes": [],
      "_model_module": "@jupyter-widgets/controls",
      "_model_module_version": "1.5.0",
      "_model_name": "CheckboxModel",
      "_view_count": null,
      "_view_module": "@jupyter-widgets/controls",
      "_view_module_version": "1.5.0",
      "_view_name": "CheckboxView",
      "description": "$x_0$",
      "description_tooltip": null,
      "disabled": false,
      "indent": true,
      "layout": "IPY_MODEL_a741cff224d6448aaa58fc824dfb09c2",
      "style": "IPY_MODEL_c3bcad6222c74d24af9a29bd1b8bd18d",
      "value": true
     }
    },
    "a190b00d46f54afab36b2e379f76e1cc": {
     "model_module": "@jupyter-widgets/controls",
     "model_name": "VBoxModel",
     "state": {
      "_dom_classes": [
       "widget-interact"
      ],
      "_model_module": "@jupyter-widgets/controls",
      "_model_module_version": "1.5.0",
      "_model_name": "VBoxModel",
      "_view_count": null,
      "_view_module": "@jupyter-widgets/controls",
      "_view_module_version": "1.5.0",
      "_view_name": "VBoxView",
      "box_style": "",
      "children": [
       "IPY_MODEL_61f4e0f8bea74c9babc43116ad93176b",
       "IPY_MODEL_558422e5122a4f869606cb9742e072ca"
      ],
      "layout": "IPY_MODEL_3f6ad89090834c6786ae051929721ada"
     }
    },
    "a4163c9a127246c0b8163427a2d7c6a4": {
     "model_module": "@jupyter-widgets/controls",
     "model_name": "VBoxModel",
     "state": {
      "_dom_classes": [
       "widget-interact"
      ],
      "_model_module": "@jupyter-widgets/controls",
      "_model_module_version": "1.5.0",
      "_model_name": "VBoxModel",
      "_view_count": null,
      "_view_module": "@jupyter-widgets/controls",
      "_view_module_version": "1.5.0",
      "_view_name": "VBoxView",
      "box_style": "",
      "children": [
       "IPY_MODEL_63a4418cab4c4a5e904b65e5adffeb72",
       "IPY_MODEL_7fb9a735e6b04534bd6f4b653447426b"
      ],
      "layout": "IPY_MODEL_04675d67396f4d98ad33c1d5c2534fde"
     }
    },
    "a56e480fe90f468384e75afe51161bad": {
     "model_module": "@jupyter-widgets/controls",
     "model_name": "DescriptionStyleModel",
     "state": {
      "_model_module": "@jupyter-widgets/controls",
      "_model_module_version": "1.5.0",
      "_model_name": "DescriptionStyleModel",
      "_view_count": null,
      "_view_module": "@jupyter-widgets/base",
      "_view_module_version": "1.2.0",
      "_view_name": "StyleView",
      "description_width": ""
     }
    },
    "a741cff224d6448aaa58fc824dfb09c2": {
     "model_module": "@jupyter-widgets/base",
     "model_name": "LayoutModel",
     "state": {
      "_model_module": "@jupyter-widgets/base",
      "_model_module_version": "1.2.0",
      "_model_name": "LayoutModel",
      "_view_count": null,
      "_view_module": "@jupyter-widgets/base",
      "_view_module_version": "1.2.0",
      "_view_name": "LayoutView",
      "align_content": null,
      "align_items": null,
      "align_self": null,
      "border": null,
      "bottom": null,
      "display": null,
      "flex": null,
      "flex_flow": null,
      "grid_area": null,
      "grid_auto_columns": null,
      "grid_auto_flow": null,
      "grid_auto_rows": null,
      "grid_column": null,
      "grid_gap": null,
      "grid_row": null,
      "grid_template_areas": null,
      "grid_template_columns": null,
      "grid_template_rows": null,
      "height": null,
      "justify_content": null,
      "justify_items": null,
      "left": null,
      "margin": null,
      "max_height": null,
      "max_width": null,
      "min_height": null,
      "min_width": null,
      "object_fit": null,
      "object_position": null,
      "order": null,
      "overflow": null,
      "overflow_x": null,
      "overflow_y": null,
      "padding": null,
      "right": null,
      "top": null,
      "visibility": null,
      "width": null
     }
    },
    "ac45cc82bee04b408ac5f95eec7cf614": {
     "model_module": "@jupyter-widgets/base",
     "model_name": "LayoutModel",
     "state": {
      "_model_module": "@jupyter-widgets/base",
      "_model_module_version": "1.2.0",
      "_model_name": "LayoutModel",
      "_view_count": null,
      "_view_module": "@jupyter-widgets/base",
      "_view_module_version": "1.2.0",
      "_view_name": "LayoutView",
      "align_content": null,
      "align_items": null,
      "align_self": null,
      "border": null,
      "bottom": null,
      "display": null,
      "flex": null,
      "flex_flow": null,
      "grid_area": null,
      "grid_auto_columns": null,
      "grid_auto_flow": null,
      "grid_auto_rows": null,
      "grid_column": null,
      "grid_gap": null,
      "grid_row": null,
      "grid_template_areas": null,
      "grid_template_columns": null,
      "grid_template_rows": null,
      "height": null,
      "justify_content": null,
      "justify_items": null,
      "left": null,
      "margin": null,
      "max_height": null,
      "max_width": null,
      "min_height": null,
      "min_width": null,
      "object_fit": null,
      "object_position": null,
      "order": null,
      "overflow": null,
      "overflow_x": null,
      "overflow_y": null,
      "padding": null,
      "right": null,
      "top": null,
      "visibility": null,
      "width": null
     }
    },
    "b32d9de8cbf9458494eb3099620e3510": {
     "model_module": "@jupyter-widgets/base",
     "model_name": "LayoutModel",
     "state": {
      "_model_module": "@jupyter-widgets/base",
      "_model_module_version": "1.2.0",
      "_model_name": "LayoutModel",
      "_view_count": null,
      "_view_module": "@jupyter-widgets/base",
      "_view_module_version": "1.2.0",
      "_view_name": "LayoutView",
      "align_content": null,
      "align_items": null,
      "align_self": null,
      "border": null,
      "bottom": null,
      "display": null,
      "flex": null,
      "flex_flow": null,
      "grid_area": null,
      "grid_auto_columns": null,
      "grid_auto_flow": null,
      "grid_auto_rows": null,
      "grid_column": null,
      "grid_gap": null,
      "grid_row": null,
      "grid_template_areas": null,
      "grid_template_columns": null,
      "grid_template_rows": null,
      "height": null,
      "justify_content": null,
      "justify_items": null,
      "left": null,
      "margin": null,
      "max_height": null,
      "max_width": null,
      "min_height": null,
      "min_width": null,
      "object_fit": null,
      "object_position": null,
      "order": null,
      "overflow": null,
      "overflow_x": null,
      "overflow_y": null,
      "padding": null,
      "right": null,
      "top": null,
      "visibility": null,
      "width": null
     }
    },
    "b85d97d6bd334a09b72006bbda28fc3d": {
     "model_module": "@jupyter-widgets/controls",
     "model_name": "CheckboxModel",
     "state": {
      "_dom_classes": [],
      "_model_module": "@jupyter-widgets/controls",
      "_model_module_version": "1.5.0",
      "_model_name": "CheckboxModel",
      "_view_count": null,
      "_view_module": "@jupyter-widgets/controls",
      "_view_module_version": "1.5.0",
      "_view_name": "CheckboxView",
      "description": "$x_1$",
      "description_tooltip": null,
      "disabled": false,
      "indent": true,
      "layout": "IPY_MODEL_5c40bea81cf340bf93826c2c0fd81d59",
      "style": "IPY_MODEL_a56e480fe90f468384e75afe51161bad",
      "value": true
     }
    },
    "ba8955f9ccd64a71a28300e761ae1df0": {
     "model_module": "@jupyter-widgets/controls",
     "model_name": "CheckboxModel",
     "state": {
      "_dom_classes": [],
      "_model_module": "@jupyter-widgets/controls",
      "_model_module_version": "1.5.0",
      "_model_name": "CheckboxModel",
      "_view_count": null,
      "_view_module": "@jupyter-widgets/controls",
      "_view_module_version": "1.5.0",
      "_view_name": "CheckboxView",
      "description": "$x_2$",
      "description_tooltip": null,
      "disabled": false,
      "indent": true,
      "layout": "IPY_MODEL_b32d9de8cbf9458494eb3099620e3510",
      "style": "IPY_MODEL_17a23a172051447dbb4620f47a83930a",
      "value": false
     }
    },
    "c3bcad6222c74d24af9a29bd1b8bd18d": {
     "model_module": "@jupyter-widgets/controls",
     "model_name": "DescriptionStyleModel",
     "state": {
      "_model_module": "@jupyter-widgets/controls",
      "_model_module_version": "1.5.0",
      "_model_name": "DescriptionStyleModel",
      "_view_count": null,
      "_view_module": "@jupyter-widgets/base",
      "_view_module_version": "1.2.0",
      "_view_name": "StyleView",
      "description_width": ""
     }
    },
    "ce52b33e557b48aa8ea93b2afc376d03": {
     "model_module": "@jupyter-widgets/base",
     "model_name": "LayoutModel",
     "state": {
      "_model_module": "@jupyter-widgets/base",
      "_model_module_version": "1.2.0",
      "_model_name": "LayoutModel",
      "_view_count": null,
      "_view_module": "@jupyter-widgets/base",
      "_view_module_version": "1.2.0",
      "_view_name": "LayoutView",
      "align_content": null,
      "align_items": null,
      "align_self": null,
      "border": null,
      "bottom": null,
      "display": null,
      "flex": null,
      "flex_flow": null,
      "grid_area": null,
      "grid_auto_columns": null,
      "grid_auto_flow": null,
      "grid_auto_rows": null,
      "grid_column": null,
      "grid_gap": null,
      "grid_row": null,
      "grid_template_areas": null,
      "grid_template_columns": null,
      "grid_template_rows": null,
      "height": null,
      "justify_content": null,
      "justify_items": null,
      "left": null,
      "margin": null,
      "max_height": null,
      "max_width": null,
      "min_height": null,
      "min_width": null,
      "object_fit": null,
      "object_position": null,
      "order": null,
      "overflow": null,
      "overflow_x": null,
      "overflow_y": null,
      "padding": null,
      "right": null,
      "top": null,
      "visibility": null,
      "width": null
     }
    },
    "d7b24b86ceee4d39af24feaa95dfe7ad": {
     "model_module": "@jupyter-widgets/controls",
     "model_name": "CheckboxModel",
     "state": {
      "_dom_classes": [],
      "_model_module": "@jupyter-widgets/controls",
      "_model_module_version": "1.5.0",
      "_model_name": "CheckboxModel",
      "_view_count": null,
      "_view_module": "@jupyter-widgets/controls",
      "_view_module_version": "1.5.0",
      "_view_name": "CheckboxView",
      "description": "$x_3$",
      "description_tooltip": null,
      "disabled": false,
      "indent": true,
      "layout": "IPY_MODEL_8ce0aaddea8e4207a083ff3f86055380",
      "style": "IPY_MODEL_0ee63939828b4cca99723b20c8ba2f4c",
      "value": false
     }
    },
    "da6d649bbafe45c796d60da359b7e922": {
     "model_module": "@jupyter-widgets/base",
     "model_name": "LayoutModel",
     "state": {
      "_model_module": "@jupyter-widgets/base",
      "_model_module_version": "1.2.0",
      "_model_name": "LayoutModel",
      "_view_count": null,
      "_view_module": "@jupyter-widgets/base",
      "_view_module_version": "1.2.0",
      "_view_name": "LayoutView",
      "align_content": null,
      "align_items": null,
      "align_self": null,
      "border": null,
      "bottom": null,
      "display": null,
      "flex": null,
      "flex_flow": null,
      "grid_area": null,
      "grid_auto_columns": null,
      "grid_auto_flow": null,
      "grid_auto_rows": null,
      "grid_column": null,
      "grid_gap": null,
      "grid_row": null,
      "grid_template_areas": null,
      "grid_template_columns": null,
      "grid_template_rows": null,
      "height": null,
      "justify_content": null,
      "justify_items": null,
      "left": null,
      "margin": null,
      "max_height": null,
      "max_width": null,
      "min_height": null,
      "min_width": null,
      "object_fit": null,
      "object_position": null,
      "order": null,
      "overflow": null,
      "overflow_x": null,
      "overflow_y": null,
      "padding": null,
      "right": null,
      "top": null,
      "visibility": null,
      "width": null
     }
    },
    "db97dbe17edc4be89fa7d45c06d343c9": {
     "model_module": "@jupyter-widgets/output",
     "model_name": "OutputModel",
     "state": {
      "_dom_classes": [],
      "_model_module": "@jupyter-widgets/output",
      "_model_module_version": "1.0.0",
      "_model_name": "OutputModel",
      "_view_count": null,
      "_view_module": "@jupyter-widgets/output",
      "_view_module_version": "1.0.0",
      "_view_name": "OutputView",
      "layout": "IPY_MODEL_ce52b33e557b48aa8ea93b2afc376d03",
      "msg_id": "",
      "outputs": [
       {
        "image/png": "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\n",
        "metadata": {
         "needs_background": "light",
         "tags": []
        },
        "output_type": "display_data",
        "text/plain": "<Figure size 432x288 with 1 Axes>"
       }
      ]
     }
    },
    "e4b526bcf1144dcb8dd8d3730d2d772d": {
     "model_module": "@jupyter-widgets/controls",
     "model_name": "SliderStyleModel",
     "state": {
      "_model_module": "@jupyter-widgets/controls",
      "_model_module_version": "1.5.0",
      "_model_name": "SliderStyleModel",
      "_view_count": null,
      "_view_module": "@jupyter-widgets/base",
      "_view_module_version": "1.2.0",
      "_view_name": "StyleView",
      "description_width": "",
      "handle_color": null
     }
    },
    "ee606f215dd34312af0bd874fbcc02cf": {
     "model_module": "@jupyter-widgets/controls",
     "model_name": "CheckboxModel",
     "state": {
      "_dom_classes": [],
      "_model_module": "@jupyter-widgets/controls",
      "_model_module_version": "1.5.0",
      "_model_name": "CheckboxModel",
      "_view_count": null,
      "_view_module": "@jupyter-widgets/controls",
      "_view_module_version": "1.5.0",
      "_view_name": "CheckboxView",
      "description": "$x_5$",
      "description_tooltip": null,
      "disabled": false,
      "indent": true,
      "layout": "IPY_MODEL_7ad729fa9fe745b1b5d4d7194b7f4daa",
      "style": "IPY_MODEL_f0dfc5ba627642b2bbe5b56e2c6cf65a",
      "value": false
     }
    },
    "f0dfc5ba627642b2bbe5b56e2c6cf65a": {
     "model_module": "@jupyter-widgets/controls",
     "model_name": "DescriptionStyleModel",
     "state": {
      "_model_module": "@jupyter-widgets/controls",
      "_model_module_version": "1.5.0",
      "_model_name": "DescriptionStyleModel",
      "_view_count": null,
      "_view_module": "@jupyter-widgets/base",
      "_view_module_version": "1.2.0",
      "_view_name": "StyleView",
      "description_width": ""
     }
    },
    "f4e9510a2730423a833dde77511517db": {
     "model_module": "@jupyter-widgets/controls",
     "model_name": "SliderStyleModel",
     "state": {
      "_model_module": "@jupyter-widgets/controls",
      "_model_module_version": "1.5.0",
      "_model_name": "SliderStyleModel",
      "_view_count": null,
      "_view_module": "@jupyter-widgets/base",
      "_view_module_version": "1.2.0",
      "_view_name": "StyleView",
      "description_width": "",
      "handle_color": null
     }
    },
    "f6c6edf29f3945e9be42147fc81b3098": {
     "model_module": "@jupyter-widgets/controls",
     "model_name": "FloatLogSliderModel",
     "state": {
      "_dom_classes": [],
      "_model_module": "@jupyter-widgets/controls",
      "_model_module_version": "1.5.0",
      "_model_name": "FloatLogSliderModel",
      "_view_count": null,
      "_view_module": "@jupyter-widgets/controls",
      "_view_module_version": "1.5.0",
      "_view_name": "FloatLogSliderView",
      "base": 10,
      "continuous_update": false,
      "description": "$\\Delta x$",
      "description_tooltip": null,
      "disabled": false,
      "layout": "IPY_MODEL_7854ffc7cb6347c4b3c46b341b30d0cc",
      "max": 0.5,
      "min": -2,
      "orientation": "horizontal",
      "readout": true,
      "readout_format": ".3g",
      "step": 0.1,
      "style": "IPY_MODEL_e4b526bcf1144dcb8dd8d3730d2d772d",
      "value": 0.5
     }
    },
    "f91002db915d49159d8c949d75a85859": {
     "model_module": "@jupyter-widgets/controls",
     "model_name": "CheckboxModel",
     "state": {
      "_dom_classes": [],
      "_model_module": "@jupyter-widgets/controls",
      "_model_module_version": "1.5.0",
      "_model_name": "CheckboxModel",
      "_view_count": null,
      "_view_module": "@jupyter-widgets/controls",
      "_view_module_version": "1.5.0",
      "_view_name": "CheckboxView",
      "description": "$x_4$",
      "description_tooltip": null,
      "disabled": false,
      "indent": true,
      "layout": "IPY_MODEL_2bb12bbc58394886b8622ccef09d2ad8",
      "style": "IPY_MODEL_5fa5f89c1b0447ffb41ce8beaf7d2ba3",
      "value": false
     }
    }
   }
  }
 },
 "nbformat": 4,
 "nbformat_minor": 1
}
