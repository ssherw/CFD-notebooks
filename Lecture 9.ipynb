{
 "cells": [
  {
   "cell_type": "markdown",
   "metadata": {},
   "source": [
    "# Lecture 9: Von Neumann Analysis\n"
   ]
  },
  {
   "cell_type": "code",
   "execution_count": 1,
   "metadata": {},
   "outputs": [],
   "source": [
    "# Initialisation\n",
    "\n",
    "%matplotlib inline\n",
    "\n",
    "import matplotlib as mpl\n",
    "import numpy as np\n",
    "import matplotlib.pyplot as plt\n",
    "from sympy import *\n",
    "from scipy.sparse import diags\n",
    "from ipywidgets import *\n",
    "from IPython.display import display, Markdown"
   ]
  },
  {
   "cell_type": "markdown",
   "metadata": {},
   "source": [
    "For a stable scheme, we expect the magnitude of the $m^{th}$ mode to remain bounded, which is true if\n",
    "\n",
    "$$\n",
    "|G| = \\frac{|\\hat{u}^{n+1}_m|}{|\\hat{u}^{n}_m|} \\leq 1 \\quad \\text{for all } \\mathit{m}\n",
    "$$\n",
    "\n",
    "where $G$ is the *amplication factor*."
   ]
  },
  {
   "cell_type": "markdown",
   "metadata": {},
   "source": [
    "## Explicit Euler/upwind method\n",
    "\n",
    "Previously it was found that the amplification factor for the discrete equation\n",
    "\n",
    "$$\n",
    "|G| = \\left| 1-\\frac{a \\Delta t}{\\Delta x}\\left(1-e^{-I \\phi_m}\\right) \\right|\n",
    "$$\n",
    "\n",
    "holds for the explicit Euler/upwind method.\n",
    "\n",
    "In this example, we observe the locus of $G$ and how it varies when we change $\\sigma$, the *Courant number*."
   ]
  },
  {
   "cell_type": "code",
   "execution_count": 2,
   "metadata": {},
   "outputs": [
    {
     "data": {
      "application/vnd.jupyter.widget-view+json": {
       "model_id": "e82a36175f7648b7acb2147f2fc26d5d",
       "version_major": 2,
       "version_minor": 0
      },
      "text/plain": [
       "interactive(children=(FloatSlider(value=0.5, continuous_update=False, description='$\\\\sigma$', max=1.1, min=0.…"
      ]
     },
     "metadata": {},
     "output_type": "display_data"
    }
   ],
   "source": [
    "# Variables\n",
    "phi_m = Symbol(r'\\phi_m', real=True)\n",
    "sigma = Symbol(r'\\sigma', real=True)\n",
    "\n",
    "G = 1-sigma*(1-exp(-I*phi_m))\n",
    "r = np.linspace(0,2*np.pi,num=50)\n",
    "u1 = [sin(y) for y in r]\n",
    "u2 = [cos(y) for y in r]\n",
    "\n",
    "def update1(s=0.5):\n",
    "    Gt = G.subs(sigma, s)\n",
    "    Gr = [re(Gt).subs(phi_m, y) for y in r]\n",
    "    Gi = [im(Gt).subs(phi_m, y) for y in r]\n",
    "    \n",
    "    fig = plt.figure()\n",
    "    ax = plt.axes(xlim=(-1.9, 1.1),ylim=(-1.1,1.1))\n",
    "\n",
    "    plt.plot(u1,u2, color='tab:blue')\n",
    "    plt.plot(Gr,Gi, color='tab:orange')\n",
    "    plt.plot((1-s), 0, 'x', color='tab:orange')\n",
    "    plt.grid()\n",
    "    plt.legend(['Unit Circle', 'Locus'])\n",
    "    \n",
    "    # Plot arrows\n",
    "    plt.annotate(s='', xy=(-sqrt(1/2),sqrt(1/2)), xytext=(0,0), arrowprops=dict(arrowstyle='->', shrinkA=0, shrinkB=0, color='tab:blue'))\n",
    "    plt.annotate(s='', xy=(Gr[42],Gi[42]), xytext=((1-s),0), arrowprops=dict(arrowstyle='->', shrinkA=0, shrinkB=0, color='tab:orange'))\n",
    "    plt.annotate(s='', xy=(Gr[42],Gi[42]), xytext=(0,0), arrowprops=dict(arrowstyle='->', shrinkA=0, shrinkB=0, color='tab:green'))\n",
    "    \n",
    "\n",
    "interact1 = interact(update1, s=FloatSlider(min=0.1, max=1.1, value=0.5, step=0.05, continuous_update=False, description='$\\sigma$'))"
   ]
  },
  {
   "cell_type": "markdown",
   "metadata": {},
   "source": [
    "## Implicit discretisation\n",
    "\n",
    "For implicit discretisation, we know the equation for $G$ to be\n",
    "\n",
    "$$\n",
    "G = \\frac{1}{ 1 + \\frac{a \\Delta t}{2 \\Delta x} \\left(e^{I \\phi_m}-e^{-I \\phi_m}\\right) }\n",
    "$$\n",
    "\n",
    "We now plot this below."
   ]
  },
  {
   "cell_type": "code",
   "execution_count": 3,
   "metadata": {},
   "outputs": [
    {
     "data": {
      "application/vnd.jupyter.widget-view+json": {
       "model_id": "82423eb4878f44aa8d2ce8350abc13f9",
       "version_major": 2,
       "version_minor": 0
      },
      "text/plain": [
       "interactive(children=(FloatSlider(value=0.5, continuous_update=False, description='$\\\\sigma$', max=4.0, min=0.…"
      ]
     },
     "metadata": {},
     "output_type": "display_data"
    }
   ],
   "source": [
    "def update2(s=0.5):\n",
    "    G2 = 1/(1+(sigma/2)*(exp(I*phi_m)-exp(-I*phi_m)))\n",
    "    r = np.linspace(0,2*np.pi,num=int(np.round(50*s)))\n",
    "    Gt = G2.subs(sigma, s)\n",
    "    Gr = [re(Gt).subs(phi_m, y) for y in r]\n",
    "    Gi = [im(Gt).subs(phi_m, y) for y in r]\n",
    "    \n",
    "    fig = plt.figure()\n",
    "    ax = plt.axes(xlim=(-1.9, 1.1),ylim=(-1.1,1.1))\n",
    "\n",
    "    plt.plot(u1,u2, color='tab:blue')\n",
    "    plt.plot(Gr,Gi, color='tab:orange')\n",
    "    plt.grid()\n",
    "    plt.legend(['Unit Circle', 'Locus'])\n",
    "    \n",
    "    # Plot arrows\n",
    "    plt.annotate(s='', xy=(-sqrt(1/2),sqrt(1/2)), xytext=(0,0), arrowprops=dict(arrowstyle='->', shrinkA=0, shrinkB=0, color='tab:blue'))  \n",
    "\n",
    "interact2 = interact(update2, s=FloatSlider(min=0.1, max=4, value=0.5, step=0.05, continuous_update=False, description='$\\sigma$'))"
   ]
  },
  {
   "cell_type": "markdown",
   "metadata": {},
   "source": [
    "## Discrete diffusion equation\n",
    "\n",
    "$$\n",
    "G = 1 + \\sigma \\left( e^{I \\phi_m} - 2 + e^{-I \\phi_m} \\right)\n",
    "$$"
   ]
  },
  {
   "cell_type": "code",
   "execution_count": 4,
   "metadata": {},
   "outputs": [
    {
     "data": {
      "application/vnd.jupyter.widget-view+json": {
       "model_id": "1cb1e4bce2e0479bb2069cd9b7127d41",
       "version_major": 2,
       "version_minor": 0
      },
      "text/plain": [
       "interactive(children=(FloatSlider(value=0.2, continuous_update=False, description='$\\\\sigma$', max=1.0, min=0.…"
      ]
     },
     "metadata": {},
     "output_type": "display_data"
    }
   ],
   "source": [
    "def update3(s=0.5):\n",
    "    G3 = 1 + sigma * (exp(I*phi_m)-2+exp(-I*phi_m))\n",
    "    r = np.linspace(0,2*np.pi,num=int(np.round(50*s)))\n",
    "    Gt = G3.subs(sigma, s)\n",
    "    Gr = [re(Gt).subs(phi_m, y) for y in r]\n",
    "    Gi = [im(Gt).subs(phi_m, y) for y in r]\n",
    "    \n",
    "    fig = plt.figure()\n",
    "    ax = plt.axes(xlim=(-1.9, 1.1),ylim=(-1.1,1.1))\n",
    "\n",
    "    plt.plot(u1,u2, color='tab:blue')\n",
    "    plt.plot(Gr,Gi, color='tab:orange')\n",
    "    plt.grid()\n",
    "    plt.legend(['Unit Circle', 'Locus'])\n",
    "    \n",
    "    # Plot arrows\n",
    "    plt.annotate(s='', xy=(-sqrt(1/2),sqrt(1/2)), xytext=(0,0), arrowprops=dict(arrowstyle='->', shrinkA=0, shrinkB=0, color='tab:blue'))  \n",
    "\n",
    "interact3 = interact(update3, s=FloatSlider(min=0.1, max=1, value=0.2, step=0.05, continuous_update=False, description='$\\sigma$'))"
   ]
  }
 ],
 "metadata": {
  "kernelspec": {
   "display_name": "Python 3",
   "language": "python",
   "name": "python3"
  },
  "language_info": {
   "codemirror_mode": {
    "name": "ipython",
    "version": 3
   },
   "file_extension": ".py",
   "mimetype": "text/x-python",
   "name": "python",
   "nbconvert_exporter": "python",
   "pygments_lexer": "ipython3",
   "version": "3.7.7"
  }
 },
 "nbformat": 4,
 "nbformat_minor": 4
}
