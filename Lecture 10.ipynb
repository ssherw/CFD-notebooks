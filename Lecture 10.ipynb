{
 "cells": [
  {
   "cell_type": "markdown",
   "metadata": {},
   "source": [
    "# Lecture 10: Diffusion and dispersion errors\n",
    "\n"
   ]
  },
  {
   "cell_type": "code",
   "execution_count": 1,
   "metadata": {},
   "outputs": [],
   "source": [
    "# Initialisation\n",
    "\n",
    "%matplotlib inline\n",
    "\n",
    "import matplotlib as mpl\n",
    "import numpy as np\n",
    "import matplotlib.pyplot as plt\n",
    "from sympy import *\n",
    "from scipy.sparse import diags\n",
    "from ipywidgets import *\n",
    "from IPython.display import display, Markdown"
   ]
  },
  {
   "cell_type": "markdown",
   "metadata": {},
   "source": [
    "## Upwind Euler forward scheme of linear advection equation\n",
    "\n",
    "The numerical amplication factor for this discretisation is\n",
    "\n",
    "$$\n",
    "G = (1-\\sigma+\\sigma\\cos(\\phi)) - I \\sigma \\sin(\\phi)\n",
    "$$\n",
    "\n",
    "for $\\sigma=\\frac{a\\Delta t}{\\Delta x}$ and $\\phi = \\phi_m = k_m \\Delta x$"
   ]
  },
  {
   "cell_type": "code",
   "execution_count": 2,
   "metadata": {},
   "outputs": [
    {
     "data": {
      "application/vnd.jupyter.widget-view+json": {
       "model_id": "1d78acc1c2994ac6a36349f6f0d69d5e",
       "version_major": 2,
       "version_minor": 0
      },
      "text/plain": [
       "interactive(children=(FloatSlider(value=0.5, continuous_update=False, description='$\\\\sigma$', max=1.1, min=0.…"
      ]
     },
     "metadata": {},
     "output_type": "display_data"
    }
   ],
   "source": [
    "phi_m = Symbol(r'\\phi_m', real=True)\n",
    "sigma = Symbol(r'\\sigma', real=True)\n",
    "y = Symbol('y')\n",
    "\n",
    "G = (1-sigma+sigma*cos(phi_m))-I*sigma*sin(phi_m)\n",
    "r = np.linspace(0,2*np.pi,num=50)\n",
    "u1 = [sin(x) for x in r]\n",
    "u2 = [cos(x) for x in r]\n",
    "\n",
    "def update1(s=0.5):\n",
    "    Gt = G.subs(sigma, s)\n",
    "    Gr = [re(Gt).subs(phi_m, x) for x in r]\n",
    "    Gi = [im(Gt).subs(phi_m, x) for x in r]\n",
    "    \n",
    "    fig = plt.figure()\n",
    "    ax = plt.axes(xlim=(-1.9, 1.1),ylim=(-1.1,1.1))\n",
    "\n",
    "    plt.plot(u1,u2, color='tab:blue')\n",
    "    plt.plot(Gr,Gi, color='tab:orange')\n",
    "    plt.grid()\n",
    "    plt.legend(['Unit Circle', 'Locus'])\n",
    "    \n",
    "    # Plot arrows\n",
    "    plt.annotate(s='', xy=(-sqrt(1/2),sqrt(1/2)), xytext=(0,0), arrowprops=dict(arrowstyle='->', shrinkA=0, shrinkB=0, color='tab:blue'))\n",
    "    plt.annotate(s='', xy=(Gr[42],Gi[42]), xytext=(Gr[42],0), arrowprops=dict(arrowstyle='<->', shrinkA=0, shrinkB=0, color='tab:red'))\n",
    "    plt.annotate(s='', xy=(0,0), xytext=(Gr[42],0), arrowprops=dict(arrowstyle='<->', shrinkA=0, shrinkB=0, color='tab:red'))\n",
    "    plt.annotate(s='', xy=(Gr[42],Gi[42]), xytext=(0,0), arrowprops=dict(arrowstyle='->', shrinkA=0, shrinkB=0, color='tab:green'))\n",
    "    \n",
    "\n",
    "interact1 = interact(update1, s=FloatSlider(min=0.1, max=1.1, value=0.5, step=0.05, continuous_update=False, description='$\\sigma$'))"
   ]
  },
  {
   "cell_type": "markdown",
   "metadata": {},
   "source": [
    "As we have seen the *exact amplification factor* is $\\tilde{G} = e^{-Ik_ma\\Delta t}$, we can then find that $|\\tilde{G}|=1$ and $\\tilde{\\Phi}=k_ma\\Delta t$ .\n",
    "\n",
    "We then find for the first order upwind scheme:\n",
    "\n",
    "$$\n",
    "\\varepsilon_D = \\left[ 1 - 4\\sigma(1-\\sigma)\\sin^2(\\phi/2) \\right]^{1/2}\n",
    "$$\n",
    "\n",
    "$$\n",
    "\\varepsilon_{\\Phi} = \\frac{\\tan^{-1}[\\sigma\\sin(\\phi)/(1-\\sigma+\\sigma\\cos(\\phi))]}{\\phi\\sigma}\n",
    "$$\n"
   ]
  },
  {
   "cell_type": "code",
   "execution_count": 3,
   "metadata": {},
   "outputs": [
    {
     "data": {
      "application/vnd.jupyter.widget-view+json": {
       "model_id": "a0c18bc1abb54e3b9016ac0368ec0884",
       "version_major": 2,
       "version_minor": 0
      },
      "text/plain": [
       "interactive(children=(FloatSlider(value=0.5, continuous_update=False, description='$\\\\sigma$', max=1.0, min=0.…"
      ]
     },
     "metadata": {},
     "output_type": "display_data"
    }
   ],
   "source": [
    "def update2(s=0.5):\n",
    "    r = np.linspace(0,np.pi,num=26)\n",
    "    ed = (1-4*sigma*(1-sigma)*(sin(phi_m/2))**2)**(1/2)\n",
    "    ep = (atan2((sigma*sin(phi_m)),(1-sigma+sigma*cos(phi_m))))/(phi_m*sigma)\n",
    "    eds = ed.subs(sigma,s)\n",
    "    eps = ep.subs(sigma,s)\n",
    "    \n",
    "    fig2 = plt.figure()\n",
    "    plt.xlabel(r'$\\phi$')\n",
    "    plt.ylabel(r'$\\varepsilon$')\n",
    "\n",
    "    plt.plot(r,[eds.subs(phi_m, x) for x in r], color='tab:blue')\n",
    "    plt.plot(r,[eps.subs(phi_m, x) for x in r], color='tab:orange')\n",
    "    plt.grid()\n",
    "    plt.legend([r'$\\varepsilon_D$',r'$\\varepsilon_\\phi$'])\n",
    "    \n",
    "\n",
    "interact2 = interact(update2, s=FloatSlider(min=0.1, max=1.0, value=0.5, step=0.05, continuous_update=False, description='$\\sigma$'))"
   ]
  },
  {
   "cell_type": "markdown",
   "metadata": {},
   "source": [
    "## Error analysis for the diffusion equation\n",
    "\n",
    "The numerical amplication factor for this discretisation, as seen earlier, is\n",
    "\n",
    "$$\n",
    "G = 1 - 4 \\sigma \\sin^2(\\phi/2)\n",
    "$$\n",
    "\n",
    "Hence, $|G|= 1 - 4 \\sigma \\sin^2(\\phi/2)$ and $\\Phi=0$, i.e. $\\varepsilon_\\Phi = 0$ and there is no dispersion error in this scheme."
   ]
  },
  {
   "cell_type": "code",
   "execution_count": 4,
   "metadata": {},
   "outputs": [
    {
     "data": {
      "application/vnd.jupyter.widget-view+json": {
       "model_id": "bea1234f553540c280e6b04a36d287d4",
       "version_major": 2,
       "version_minor": 0
      },
      "text/plain": [
       "interactive(children=(FloatSlider(value=0.2, continuous_update=False, description='$\\\\sigma$', max=0.5, step=0…"
      ]
     },
     "metadata": {},
     "output_type": "display_data"
    }
   ],
   "source": [
    "def update3(s=0.5):\n",
    "    r = np.linspace(0,np.pi,num=26)\n",
    "    ed = (1-4*sigma*(sin(phi_m/2))**2)/(exp(-sigma*phi_m**2))\n",
    "    eds = ed.subs(sigma,s)\n",
    "    \n",
    "    fig3 = plt.figure()\n",
    "    ax3 = plt.gca()\n",
    "    ax3.set_ylim([-4,2])\n",
    "    plt.xlabel(r'$\\phi$')\n",
    "    plt.ylabel(r'$\\varepsilon$')\n",
    "\n",
    "    plt.plot(r,[eds.subs(phi_m, x) for x in r], color='tab:blue')\n",
    "    plt.grid()\n",
    "    plt.legend([r'$\\varepsilon_D$'], loc='lower left')\n",
    "    \n",
    "\n",
    "interact3 = interact(update3, s=FloatSlider(min=0.0, max=0.5, value=0.2, step=0.05, continuous_update=False, description='$\\sigma$'))"
   ]
  },
  {
   "cell_type": "markdown",
   "metadata": {},
   "source": [
    "## Leapfrog Scheme for linear advection equation\n",
    "\n",
    "The **leapfrog scheme** is an explicit scheme which is second order in both time and space, defined by\n",
    "\n",
    "$$\n",
    "\\frac{u^{n+1}_i - u^{n-1}_i}{2 \\Delta t} + \\frac{a}{2 \\Delta x} \\left( u^n_{i+1} - u^n_{i-1} \\right) = 0\n",
    "$$\n",
    "\n",
    "We can then obtain a quadratic equation for G as such\n",
    "\n",
    "$$\n",
    "G - \\frac{1}{G} = -\\sigma \\left( e^{I \\phi} - e^{-I \\phi} \\right)\n",
    "$$\n",
    "\n",
    "with the solutions\n",
    "\n",
    "$$\n",
    "G = -I \\sigma \\sin \\phi \\pm \\sqrt{1 - \\sigma^2 \\sin^2 \\phi }\n",
    "$$\n",
    "\n",
    "If $\\sigma > 1$, the scheme is unstable as the term under the square root can become negative, making G purely imaginary and larger than one in magnitude.\n",
    "\n",
    "For $|\\sigma| \\leq 1$, the term under the square root is always real and thus\n",
    "\n",
    "$$\n",
    "|G|^2 = \\sigma^2 \\sin^2 \\phi + \\left( 1 - \\sigma^2 \\sin^2 \\phi \\right)\n",
    "$$\n",
    "\n",
    "$$\n",
    "|G| = 1 \\quad \\textrm{for } |\\sigma| \\leq 1\n",
    "$$\n",
    "\n",
    "Thus, the leapfrog scheme is **neutrally stable**, i.e. the scheme has no diffusion errors.\n",
    "\n",
    "The dispersion error is given by\n",
    "\n",
    "$$\n",
    "\\varepsilon_{\\Phi} = \\pm \\frac{\\tan^{-1}\\left[ \\sigma\\sin(\\phi) \\middle/ \\sqrt{1 -  \\sigma^2 \\sin^2 \\phi} \\right]}{\\phi\\sigma} = \\pm \\frac{\\sin^{-1} (\\sigma \\sin \\phi)}{\\sigma \\phi}\n",
    "$$\n",
    "\n",
    "We compare the dispersion error for the leapfrog scheme to the upwind Euler scheme."
   ]
  },
  {
   "cell_type": "code",
   "execution_count": 5,
   "metadata": {},
   "outputs": [
    {
     "data": {
      "application/vnd.jupyter.widget-view+json": {
       "model_id": "3a131b96834f4b7dbff99328b8f2612d",
       "version_major": 2,
       "version_minor": 0
      },
      "text/plain": [
       "interactive(children=(FloatSlider(value=0.2, continuous_update=False, description='$\\\\sigma$', max=1.0, min=0.…"
      ]
     },
     "metadata": {},
     "output_type": "display_data"
    }
   ],
   "source": [
    "def update4(s=0.5):\n",
    "    r = np.linspace(0,np.pi,num=26)\n",
    "    # Leapfrog scheme\n",
    "    epl = (asin(sigma*sin(phi_m)))/(sigma*phi_m)\n",
    "    epls = epl.subs(sigma,s)\n",
    "    # Forward Euler\n",
    "    epf = (atan2((sigma*sin(phi_m)),(1-sigma+sigma*cos(phi_m))))/(phi_m*sigma)\n",
    "    epfs = epf.subs(sigma,s)\n",
    "    \n",
    "    fig3 = plt.figure()\n",
    "    ax3 = plt.gca()\n",
    "    ax3.set_ylim([0,1.4])\n",
    "    plt.xlabel(r'$\\phi$')\n",
    "    plt.ylabel(r'$\\varepsilon$')\n",
    "\n",
    "    plt.plot(r,[epls.subs(phi_m, x) for x in r], color='tab:blue')\n",
    "    plt.plot(r,[epfs.subs(phi_m, x) for x in r], color='tab:orange')\n",
    "    plt.grid()\n",
    "    plt.legend(['Leapfrog', 'Forward Euler'], loc='lower left')\n",
    "    \n",
    "\n",
    "interact4 = interact(update4, s=FloatSlider(min=0.05, max=1., value=0.2, step=0.05, continuous_update=False, description='$\\sigma$'))"
   ]
  },
  {
   "cell_type": "code",
   "execution_count": null,
   "metadata": {},
   "outputs": [],
   "source": []
  }
 ],
 "metadata": {
  "kernelspec": {
   "display_name": "Python 3",
   "language": "python",
   "name": "python3"
  },
  "language_info": {
   "codemirror_mode": {
    "name": "ipython",
    "version": 3
   },
   "file_extension": ".py",
   "mimetype": "text/x-python",
   "name": "python",
   "nbconvert_exporter": "python",
   "pygments_lexer": "ipython3",
   "version": "3.7.7"
  }
 },
 "nbformat": 4,
 "nbformat_minor": 4
}
